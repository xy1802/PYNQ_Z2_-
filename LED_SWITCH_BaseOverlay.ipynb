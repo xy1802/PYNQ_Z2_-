{
 "cells": [
  {
   "cell_type": "markdown",
   "metadata": {},
   "source": [
    "LED 调试+ baseoverlay 使用"
   ]
  },
  {
   "cell_type": "code",
   "execution_count": 33,
   "metadata": {},
   "outputs": [],
   "source": [
    "from pynq import Overlay"
   ]
  },
  {
   "cell_type": "code",
   "execution_count": 34,
   "metadata": {},
   "outputs": [],
   "source": [
    "overlay = Overlay(\"base.bit\")"
   ]
  },
  {
   "cell_type": "code",
   "execution_count": 11,
   "metadata": {},
   "outputs": [],
   "source": [
    "overlay?"
   ]
  },
  {
   "cell_type": "code",
   "execution_count": 12,
   "metadata": {},
   "outputs": [
    {
     "name": "stdout",
     "output_type": "stream",
     "text": [
      "Help on Overlay in module pynq.overlay object:\n",
      "\n",
      "class Overlay(pynq.bitstream.Bitstream)\n",
      " |  This class keeps track of a single bitstream's state and contents.\n",
      " |  \n",
      " |  The overlay class holds the state of the bitstream and enables run-time\n",
      " |  protection of bindlings.\n",
      " |  \n",
      " |  Our definition of overlay is: \"post-bitstream configurable design\".\n",
      " |  Hence, this class must expose configurability through content discovery\n",
      " |  and runtime protection.\n",
      " |  \n",
      " |  The overlay class exposes the IP and hierarchies as attributes in the\n",
      " |  overlay. If no other drivers are available the `DefaultIP` is constructed\n",
      " |  for IP cores at top level and `DefaultHierarchy` for any hierarchies that\n",
      " |  contain addressable IP. Custom drivers can be bound to IP and hierarchies\n",
      " |  by subclassing `DefaultIP` and `DefaultHierarchy`. See the help entries\n",
      " |  for those class for more details.\n",
      " |  \n",
      " |  This class stores four dictionaries: IP, GPIO, interrupt controller\n",
      " |  and interrupt pin dictionaries.\n",
      " |  \n",
      " |  Each entry of the IP dictionary is a mapping:\n",
      " |  'name' -> {phys_addr, addr_range, type, config, state}, where\n",
      " |  name (str) is the key of the entry.\n",
      " |  phys_addr (int) is the physical address of the IP.\n",
      " |  addr_range (int) is the address range of the IP.\n",
      " |  type (str) is the type of the IP.\n",
      " |  config (dict) is a dictionary of the configuration parameters.\n",
      " |  state (str) is the state information about the IP.\n",
      " |  \n",
      " |  Each entry of the GPIO dictionary is a mapping:\n",
      " |  'name' -> {pin, state}, where\n",
      " |  name (str) is the key of the entry.\n",
      " |  pin (int) is the user index of the GPIO, starting from 0.\n",
      " |  state (str) is the state information about the GPIO.\n",
      " |  \n",
      " |  Each entry in the interrupt controller dictionary is a mapping:\n",
      " |  'name' -> {parent, index}, where\n",
      " |  name (str) is the name of the interrupt controller.\n",
      " |  parent (str) is the name of the parent controller or '' if attached\n",
      " |  directly to the PS.\n",
      " |  index (int) is the index of the interrupt attached to.\n",
      " |  \n",
      " |  Each entry in the interrupt pin dictionary is a mapping:\n",
      " |  'name' -> {controller, index}, where\n",
      " |  name (str) is the name of the pin.\n",
      " |  controller (str) is the name of the interrupt controller.\n",
      " |  index (int) is the line index.\n",
      " |  \n",
      " |  Attributes\n",
      " |  ----------\n",
      " |  bitfile_name : str\n",
      " |      The absolute path of the bitstream.\n",
      " |  dtbo : str\n",
      " |      The absolute path of the dtbo file for the full bitstream.\n",
      " |  ip_dict : dict\n",
      " |      All the addressable IPs from PS. Key is the name of the IP; value is\n",
      " |      a dictionary mapping the physical address, address range, IP type,\n",
      " |      parameters, registers, and the state associated with that IP:\n",
      " |      {str: {'phys_addr' : int, 'addr_range' : int,                'type' : str, 'parameters' : dict, 'registers': dict,                'state' : str}}.\n",
      " |  gpio_dict : dict\n",
      " |      All the GPIO pins controlled by PS. Key is the name of the GPIO pin;\n",
      " |      value is a dictionary mapping user index (starting from 0),\n",
      " |      and the state associated with that GPIO pin:\n",
      " |      {str: {'index' : int, 'state' : str}}.\n",
      " |  interrupt_controllers : dict\n",
      " |      All AXI interrupt controllers in the system attached to\n",
      " |      a PS interrupt line. Key is the name of the controller;\n",
      " |      value is a dictionary mapping parent interrupt controller and the\n",
      " |      line index of this interrupt:\n",
      " |      {str: {'parent': str, 'index' : int}}.\n",
      " |      The PS is the root of the hierarchy and is unnamed.\n",
      " |  interrupt_pins : dict\n",
      " |      All pins in the design attached to an interrupt controller.\n",
      " |      Key is the name of the pin; value is a dictionary\n",
      " |      mapping the interrupt controller and the line index used:\n",
      " |      {str: {'controller' : str, 'index' : int}}.\n",
      " |  pr_dict : dict\n",
      " |      Dictionary mapping from the name of the partial-reconfigurable\n",
      " |      hierarchical blocks to the loaded partial bitstreams:\n",
      " |      {str: {'loaded': str, 'dtbo': str}}.\n",
      " |  \n",
      " |  Method resolution order:\n",
      " |      Overlay\n",
      " |      pynq.bitstream.Bitstream\n",
      " |      builtins.object\n",
      " |  \n",
      " |  Methods defined here:\n",
      " |  \n",
      " |  __dir__(self)\n",
      " |      __dir__() -> list\n",
      " |      default dir() implementation\n",
      " |  \n",
      " |  __getattr__(self, key)\n",
      " |      Overload of __getattr__ to return a driver for an IP or\n",
      " |      hierarchy. Throws an `RuntimeError` if the overlay is not loaded.\n",
      " |  \n",
      " |  __init__(self, bitfile_name, dtbo=None, download=True, ignore_version=False, device=None)\n",
      " |      Return a new Overlay object.\n",
      " |      \n",
      " |      An overlay instantiates a bitstream object as a member initially.\n",
      " |      \n",
      " |      Parameters\n",
      " |      ----------\n",
      " |      bitfile_name : str\n",
      " |          The bitstream name or absolute path as a string.\n",
      " |      dtbo : str\n",
      " |          The dtbo file name or absolute path as a string.\n",
      " |      download : bool\n",
      " |          Whether the overlay should be downloaded.\n",
      " |      ignore_version : bool\n",
      " |          Indicate whether or not to ignore the driver versions.\n",
      " |      \n",
      " |      Note\n",
      " |      ----\n",
      " |      This class requires a Vivado TCL file to be next to bitstream file\n",
      " |      with same name (e.g. `base.bit` and `base.tcl`).\n",
      " |  \n",
      " |  download(self, dtbo=None)\n",
      " |      The method to download a full bitstream onto PL.\n",
      " |      \n",
      " |      After the bitstream has been downloaded, the \"timestamp\" in PL will be\n",
      " |      updated. In addition, all the dictionaries on PL will\n",
      " |      be reset automatically.\n",
      " |      \n",
      " |      This method will use parameter `dtbo` or `self.dtbo` to configure the\n",
      " |      device tree.\n",
      " |      \n",
      " |      Parameters\n",
      " |      ----------\n",
      " |      dtbo : str\n",
      " |          The path of the dtbo file.\n",
      " |  \n",
      " |  is_loaded(self)\n",
      " |      This method checks whether a bitstream is loaded.\n",
      " |      \n",
      " |      This method returns true if the loaded PL bitstream is same\n",
      " |      as this Overlay's member bitstream.\n",
      " |      \n",
      " |      Returns\n",
      " |      -------\n",
      " |      bool\n",
      " |          True if bitstream is loaded.\n",
      " |  \n",
      " |  load_ip_data(self, ip_name, data)\n",
      " |      This method loads the data to the addressable IP.\n",
      " |      \n",
      " |      Calls the method in the super class to load the data. This method can\n",
      " |      be used to program the IP. For example, users can use this method to\n",
      " |      load the program to the Microblaze processors on PL.\n",
      " |      \n",
      " |      Note\n",
      " |      ----\n",
      " |      The data is assumed to be in binary format (.bin). The data name will\n",
      " |      be stored as a state information in the IP dictionary.\n",
      " |      \n",
      " |      Parameters\n",
      " |      ----------\n",
      " |      ip_name : str\n",
      " |          The name of the addressable IP.\n",
      " |      data : str\n",
      " |          The absolute path of the data to be loaded.\n",
      " |      \n",
      " |      Returns\n",
      " |      -------\n",
      " |      None\n",
      " |  \n",
      " |  pr_download(self, partial_region, partial_bit, dtbo=None)\n",
      " |      The method to download a partial bitstream onto PL.\n",
      " |      \n",
      " |      In this method, the corresponding parser will only be\n",
      " |      added once the `download()` method of the hierarchical block is called.\n",
      " |      \n",
      " |      This method always uses the parameter `dtbo` to configure the device\n",
      " |      tree.\n",
      " |      \n",
      " |      Note\n",
      " |      ----\n",
      " |      There is no check on whether the partial region specified by users\n",
      " |      is really partial-reconfigurable. So users have to make sure the\n",
      " |      `partial_region` provided is correct.\n",
      " |      \n",
      " |      Parameters\n",
      " |      ----------\n",
      " |      partial_region : str\n",
      " |          The name of the hierarchical block corresponding to the PR region.\n",
      " |      partial_bit : str\n",
      " |          The name of the partial bitstream.\n",
      " |      dtbo : str\n",
      " |          The path of the dtbo file.\n",
      " |  \n",
      " |  reset(self)\n",
      " |      This function resets all the dictionaries kept in the overlay.\n",
      " |      \n",
      " |      This function should be used with caution. In most cases, only those\n",
      " |      dictionaries keeping track of states need to be updated.\n",
      " |      \n",
      " |      Returns\n",
      " |      -------\n",
      " |      None\n",
      " |  \n",
      " |  ----------------------------------------------------------------------\n",
      " |  Methods inherited from pynq.bitstream.Bitstream:\n",
      " |  \n",
      " |  insert_dtbo(self, dtbo=None)\n",
      " |      Insert dtbo file into the system.\n",
      " |      \n",
      " |      A simple wrapper of the corresponding method in the PL class. If\n",
      " |      `dtbo` is None, `self.dtbo` will be used to insert the dtbo\n",
      " |      file. In most cases, users should just ignore the parameter\n",
      " |      `dtbo`.\n",
      " |      \n",
      " |      Parameters\n",
      " |      ----------\n",
      " |      dtbo : str\n",
      " |          The relative or absolute path to the device tree segment.\n",
      " |  \n",
      " |  remove_dtbo(self)\n",
      " |      Remove dtbo file from the system.\n",
      " |      \n",
      " |      A simple wrapper of the corresponding method in the PL class. This is\n",
      " |      very useful for partial bitstream downloading, where loading the\n",
      " |      new device tree blob will overwrites the existing device tree blob\n",
      " |      in the same partial region.\n",
      " |  \n",
      " |  ----------------------------------------------------------------------\n",
      " |  Data descriptors inherited from pynq.bitstream.Bitstream:\n",
      " |  \n",
      " |  __dict__\n",
      " |      dictionary for instance variables (if defined)\n",
      " |  \n",
      " |  __weakref__\n",
      " |      list of weak references to the object (if defined)\n",
      "\n"
     ]
    }
   ],
   "source": [
    "help(overlay)"
   ]
  },
  {
   "cell_type": "code",
   "execution_count": 36,
   "metadata": {},
   "outputs": [],
   "source": [
    "led0 = base.leds[0]\n",
    "led1 = base.leds[1]\n",
    "led2 = base.leds[2]\n",
    "led3 = base.leds[3]"
   ]
  },
  {
   "cell_type": "markdown",
   "metadata": {},
   "source": [
    "点个灯"
   ]
  },
  {
   "cell_type": "code",
   "execution_count": 20,
   "metadata": {},
   "outputs": [],
   "source": [
    "led0.on()"
   ]
  },
  {
   "cell_type": "markdown",
   "metadata": {},
   "source": [
    "关掉"
   ]
  },
  {
   "cell_type": "code",
   "execution_count": 22,
   "metadata": {},
   "outputs": [],
   "source": [
    "led0.off()"
   ]
  },
  {
   "cell_type": "markdown",
   "metadata": {},
   "source": [
    "切换灯的模式"
   ]
  },
  {
   "cell_type": "code",
   "execution_count": 24,
   "metadata": {},
   "outputs": [],
   "source": [
    "led0.toggle()"
   ]
  },
  {
   "cell_type": "markdown",
   "metadata": {},
   "source": [
    "写个流水灯"
   ]
  },
  {
   "cell_type": "code",
   "execution_count": 18,
   "metadata": {},
   "outputs": [],
   "source": [
    "import time"
   ]
  },
  {
   "cell_type": "code",
   "execution_count": 30,
   "metadata": {},
   "outputs": [],
   "source": [
    "for i in range(10):\n",
    "    led0.toggle()\n",
    "    time.sleep(0.1)\n",
    "    led1.toggle()\n",
    "    time.sleep(0.1)\n",
    "    led2.toggle()\n",
    "    time.sleep(0.1)\n",
    "    led3.toggle()\n",
    "    time.sleep(0.1) "
   ]
  },
  {
   "cell_type": "markdown",
   "metadata": {},
   "source": [
    "带上开关一起控制灯  \n",
    "switch0 控制流水灯开始和结束  \n",
    "switch1 打到1复位 "
   ]
  },
  {
   "cell_type": "code",
   "execution_count": 53,
   "metadata": {},
   "outputs": [],
   "source": [
    "switch0 = base.switches[0]\n",
    "switch1 = base.switches[1]"
   ]
  },
  {
   "cell_type": "code",
   "execution_count": null,
   "metadata": {},
   "outputs": [
    {
     "name": "stdout",
     "output_type": "stream",
     "text": [
      "流水灯开始运行\n",
      "流水灯结束运行,流水灯运行了27次\n"
     ]
    }
   ],
   "source": [
    "n = 0\n",
    "while (switch0.read()):\n",
    "    if n<1:\n",
    "        print(\"流水灯开始运行\")\n",
    "    n = n+1\n",
    "    led0.toggle()\n",
    "    time.sleep(0.1)\n",
    "    led1.toggle()\n",
    "    time.sleep(0.1)\n",
    "    led2.toggle()\n",
    "    time.sleep(0.1)\n",
    "    led3.toggle()\n",
    "    time.sleep(0.1) \n",
    "print(\"流水灯结束运行,流水灯运行了%d次\"% n)\n",
    "\n",
    "while(switch1.read()):\n",
    "    led0.off()\n",
    "    led1.off()\n",
    "    led2.off()\n",
    "    led3.off()\n",
    "    "
   ]
  },
  {
   "cell_type": "markdown",
   "metadata": {},
   "source": [
    "baseoverlay的控制方式可以自己去\\\\pynq\\xilinx\\pynq\\lib下找  \n",
    "也可以自己用vivado定义  \n",
    "这就相当于一个控制硬件的函数  "
   ]
  },
  {
   "cell_type": "code",
   "execution_count": null,
   "metadata": {},
   "outputs": [],
   "source": []
  }
 ],
 "metadata": {
  "kernelspec": {
   "display_name": "Python 3",
   "language": "python",
   "name": "python3"
  },
  "language_info": {
   "codemirror_mode": {
    "name": "ipython",
    "version": 3
   },
   "file_extension": ".py",
   "mimetype": "text/x-python",
   "name": "python",
   "nbconvert_exporter": "python",
   "pygments_lexer": "ipython3",
   "version": "3.6.5"
  }
 },
 "nbformat": 4,
 "nbformat_minor": 2
}
